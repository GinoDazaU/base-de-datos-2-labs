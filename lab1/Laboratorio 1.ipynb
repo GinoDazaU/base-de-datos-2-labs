{
 "cells": [
  {
   "cell_type": "markdown",
   "metadata": {},
   "source": [
    "<div style=\"border-radius: 5px; padding: 1rem; margin-bottom: 1rem\">\n",
    "<img src=\"https://www.prototypesforhumanity.com/wp-content/uploads/2022/11/LOGO_UTEC_.png\" alt=\"Banner\" width=\"150\" />   \n",
    " </div>\n",
    "\n",
    "# Laboratorio 01: Registros de Longitud Fija y Variable\n",
    "> **Prof. Heider Sanchez**\n",
    "\n",
    "## P1 (10 pts):\n",
    "Dada la siguiente estructura del registro, en donde se encuentran dos atributos no textuales: `ciclo` y `costo de mensualidad`.\n",
    "\n",
    "```bash\n",
    "Registro Alumno:\n",
    "    Atributos:\n",
    "        codigo (Cadena[5])       # Tamaño: 5 caracteres\n",
    "        nombre (Cadena[11])      # Tamaño: 11 caracteres\n",
    "        apellidos (Cadena[20])   # Tamaño: 20 caracteres\n",
    "        carrera (Cadena[15])     # Tamaño: 15 caracteres\n",
    "        ciclo (Entero)           # Entero para el ciclo\n",
    "        mensualidad (Decimal)    # Decimal para la mensualidad\n",
    "```\n",
    "### Requisitos:\n",
    "Se le pide encapsular las siguientes operaciones de manipulación de archivo binario con dos estrategias de eliminación en una clase llamada `FixedRecord`:\n",
    "\n",
    "1. **El constructor** debe recibir el nombre del archivo y el modo de eliminación:\n",
    "   - **MOVE THE LAST**: mueve el último registro a la posición del registro eliminado.\n",
    "   - **FREE LIST**: mantiene una lista de espacios libres para ser usados en nuevas inserciones.\n",
    "   - Puede separar la implementación en dos clases, una para cada modo de eliminación.\n",
    "\n",
    "2. Implementar las siguientes funciones:\n",
    "   - `load()`: devuelve todos los registros válidos del archivo.\n",
    "   - `add(record)`: agrega un nuevo registro al archivo O(1). Debe considerar los espacios libres. \n",
    "   - `readRecord(pos)`: obtiene el registro de la posición \"pos\" O(1). Debe validar si el registro ha sido eliminado.\n",
    "   - `remove(pos)`: elimina el registro de la posición \"pos\" O(1). \n",
    "\n",
    "3. Realizar las pruebas funcionales de cada método (`P1.py`). "
   ]
  },
  {
   "cell_type": "code",
   "execution_count": null,
   "metadata": {},
   "outputs": [],
   "source": [
    "# CODE HERE"
   ]
  },
  {
   "cell_type": "markdown",
   "metadata": {},
   "source": [
    "## P2 (10 pts):\n",
    "Se debe implementar un programa para leer y escribir registros de longitud variable en un archivo binario usando el tamaño del dato como separador.\n",
    "\n",
    "```bash\n",
    "Registro Matricula:\n",
    "    Atributos:\n",
    "        codigo (Cadena*)        # Tamaño variable\n",
    "        ciclo (Entero)          # Entero para el ciclo\n",
    "        mensualidad (Decimal)   # Decimal para la mensualidad\n",
    "        observaciones (Cadena*) # Tamaño variable\n",
    "```\n",
    "\n",
    "### Requisitos:\n",
    "\n",
    "1. Manejar un archivo adicional (**metadata**) para indicar la posición inicial de cada registro.\n",
    "   - Evaluar si es necesario guardar también el tamaño del registro.\n",
    "\n",
    "2. Implementar:\n",
    "   - `load()`: devuelve todos los registros del archivo.\n",
    "   - `add(record)`: agrega un nuevo registro al archivo O(1).\n",
    "   - `readRecord(pos)`: obtiene el registro de la posición \"pos\" O(1).\n",
    "   - `remove(pos)`: elimina el registro de la posición \"pos\" (proponer una estrategia eficiente).\n",
    "\n",
    "3. Realizar las pruebas funcionales de cada método (`P2.cpp`)."
   ]
  },
  {
   "cell_type": "code",
   "execution_count": null,
   "metadata": {},
   "outputs": [],
   "source": [
    "# CODE HERE"
   ]
  },
  {
   "cell_type": "markdown",
   "metadata": {},
   "source": [
    "## Entregable:\n",
    "- El ejercicio P1 resolver con Python (modulo struct).\n",
    "- El ejercicio P2 resolver en C++ 17. \n",
    "- Los dos ejercicios deben contener pruebas de funcionalidad (deben compilar y correr).\n",
    "- El programa debe permitir la lectura de los datos en cualquier momento.\n",
    "- Subir al Canvas todo el código fuente, incluidos los archivos de datos utilizados en su programa.\n"
   ]
  }
 ],
 "metadata": {
  "language_info": {
   "name": "python"
  }
 },
 "nbformat": 4,
 "nbformat_minor": 2
}
